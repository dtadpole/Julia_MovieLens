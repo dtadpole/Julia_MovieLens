{
 "cells": [
  {
   "cell_type": "code",
   "execution_count": 64,
   "metadata": {},
   "outputs": [],
   "source": [
    "include(\"data.jl\")"
   ]
  },
  {
   "cell_type": "code",
   "execution_count": 65,
   "metadata": {},
   "outputs": [
    {
     "data": {
      "text/plain": [
       "3885"
      ]
     },
     "metadata": {},
     "output_type": "display_data"
    }
   ],
   "source": [
    "# load users\n",
    "users = load_users()\n",
    "USER_SIZE = size(users, 1)\n",
    "\n",
    "# load movies\n",
    "movies = load_movies()\n",
    "MOVIE_SIZE = size(movies, 1)\n",
    "\n",
    "# load ratings\n",
    "ratings = load_ratings()\n",
    "\n",
    "NULL_VALUE = MOVIE_SIZE + 1\n",
    "MASK_VALUE = MOVIE_SIZE + 2\n"
   ]
  },
  {
   "cell_type": "code",
   "execution_count": 70,
   "metadata": {},
   "outputs": [
    {
     "data": {
      "text/html": [
       "<div class=\"data-frame\"><p>6,040 rows × 2 columns</p><table class=\"data-frame\"><thead><tr><th></th><th>uid</th><th>count</th></tr><tr><th></th><th title=\"Int64\">Int64</th><th title=\"Int64\">Int64</th></tr></thead><tbody><tr><th>1</th><td>6040</td><td>341</td></tr><tr><th>2</th><td>6039</td><td>123</td></tr><tr><th>3</th><td>6038</td><td>20</td></tr><tr><th>4</th><td>6037</td><td>202</td></tr><tr><th>5</th><td>6036</td><td>888</td></tr><tr><th>6</th><td>6035</td><td>280</td></tr><tr><th>7</th><td>6034</td><td>21</td></tr><tr><th>8</th><td>6033</td><td>60</td></tr><tr><th>9</th><td>6032</td><td>104</td></tr><tr><th>10</th><td>6031</td><td>51</td></tr><tr><th>11</th><td>6030</td><td>115</td></tr><tr><th>12</th><td>6029</td><td>31</td></tr><tr><th>13</th><td>6028</td><td>47</td></tr><tr><th>14</th><td>6027</td><td>36</td></tr><tr><th>15</th><td>6026</td><td>81</td></tr><tr><th>16</th><td>6025</td><td>271</td></tr><tr><th>17</th><td>6024</td><td>95</td></tr><tr><th>18</th><td>6023</td><td>147</td></tr><tr><th>19</th><td>6022</td><td>48</td></tr><tr><th>20</th><td>6021</td><td>132</td></tr><tr><th>21</th><td>6020</td><td>43</td></tr><tr><th>22</th><td>6019</td><td>89</td></tr><tr><th>23</th><td>6018</td><td>159</td></tr><tr><th>24</th><td>6017</td><td>33</td></tr><tr><th>&vellip;</th><td>&vellip;</td><td>&vellip;</td></tr></tbody></table></div>"
      ],
      "text/latex": [
       "\\begin{tabular}{r|cc}\n",
       "\t& uid & count\\\\\n",
       "\t\\hline\n",
       "\t& Int64 & Int64\\\\\n",
       "\t\\hline\n",
       "\t1 & 6040 & 341 \\\\\n",
       "\t2 & 6039 & 123 \\\\\n",
       "\t3 & 6038 & 20 \\\\\n",
       "\t4 & 6037 & 202 \\\\\n",
       "\t5 & 6036 & 888 \\\\\n",
       "\t6 & 6035 & 280 \\\\\n",
       "\t7 & 6034 & 21 \\\\\n",
       "\t8 & 6033 & 60 \\\\\n",
       "\t9 & 6032 & 104 \\\\\n",
       "\t10 & 6031 & 51 \\\\\n",
       "\t11 & 6030 & 115 \\\\\n",
       "\t12 & 6029 & 31 \\\\\n",
       "\t13 & 6028 & 47 \\\\\n",
       "\t14 & 6027 & 36 \\\\\n",
       "\t15 & 6026 & 81 \\\\\n",
       "\t16 & 6025 & 271 \\\\\n",
       "\t17 & 6024 & 95 \\\\\n",
       "\t18 & 6023 & 147 \\\\\n",
       "\t19 & 6022 & 48 \\\\\n",
       "\t20 & 6021 & 132 \\\\\n",
       "\t21 & 6020 & 43 \\\\\n",
       "\t22 & 6019 & 89 \\\\\n",
       "\t23 & 6018 & 159 \\\\\n",
       "\t24 & 6017 & 33 \\\\\n",
       "\t$\\dots$ & $\\dots$ & $\\dots$ \\\\\n",
       "\\end{tabular}\n"
      ],
      "text/plain": [
       "\u001b[1m6040×2 DataFrame\u001b[0m\n",
       "\u001b[1m  Row \u001b[0m│\u001b[1m uid   \u001b[0m\u001b[1m count \u001b[0m\n",
       "\u001b[1m      \u001b[0m│\u001b[90m Int64 \u001b[0m\u001b[90m Int64 \u001b[0m\n",
       "──────┼──────────────\n",
       "    1 │  6040    341\n",
       "    2 │  6039    123\n",
       "    3 │  6038     20\n",
       "    4 │  6037    202\n",
       "    5 │  6036    888\n",
       "    6 │  6035    280\n",
       "    7 │  6034     21\n",
       "    8 │  6033     60\n",
       "  ⋮   │   ⋮      ⋮\n",
       " 6034 │     7     31\n",
       " 6035 │     6     71\n",
       " 6036 │     5    198\n",
       " 6037 │     4     21\n",
       " 6038 │     3     51\n",
       " 6039 │     2    129\n",
       " 6040 │     1     53\n",
       "\u001b[36m    6025 rows omitted\u001b[0m"
      ]
     },
     "metadata": {},
     "output_type": "display_data"
    }
   ],
   "source": [
    "count_user = sort!(combine(groupby(ratings, :uid), nrow => :count), :uid, rev=true)"
   ]
  },
  {
   "cell_type": "code",
   "execution_count": 78,
   "metadata": {},
   "outputs": [
    {
     "data": {
      "text/html": [
       "<div class=\"data-frame\"><p>3,706 rows × 2 columns</p><table class=\"data-frame\"><thead><tr><th></th><th>mid</th><th>count</th></tr><tr><th></th><th title=\"Int64\">Int64</th><th title=\"Int64\">Int64</th></tr></thead><tbody><tr><th>1</th><td>2858</td><td>3428</td></tr><tr><th>2</th><td>260</td><td>2991</td></tr><tr><th>3</th><td>1196</td><td>2990</td></tr><tr><th>4</th><td>1210</td><td>2883</td></tr><tr><th>5</th><td>480</td><td>2672</td></tr><tr><th>6</th><td>2028</td><td>2653</td></tr><tr><th>7</th><td>589</td><td>2649</td></tr><tr><th>8</th><td>2571</td><td>2590</td></tr><tr><th>9</th><td>1270</td><td>2583</td></tr><tr><th>10</th><td>593</td><td>2578</td></tr><tr><th>11</th><td>1580</td><td>2538</td></tr><tr><th>12</th><td>1198</td><td>2514</td></tr><tr><th>13</th><td>608</td><td>2513</td></tr><tr><th>14</th><td>2762</td><td>2459</td></tr><tr><th>15</th><td>110</td><td>2443</td></tr><tr><th>16</th><td>2396</td><td>2369</td></tr><tr><th>17</th><td>1197</td><td>2318</td></tr><tr><th>18</th><td>527</td><td>2304</td></tr><tr><th>19</th><td>1617</td><td>2288</td></tr><tr><th>20</th><td>1265</td><td>2278</td></tr><tr><th>21</th><td>1097</td><td>2269</td></tr><tr><th>22</th><td>2628</td><td>2250</td></tr><tr><th>23</th><td>2997</td><td>2241</td></tr><tr><th>24</th><td>318</td><td>2227</td></tr><tr><th>&vellip;</th><td>&vellip;</td><td>&vellip;</td></tr></tbody></table></div>"
      ],
      "text/latex": [
       "\\begin{tabular}{r|cc}\n",
       "\t& mid & count\\\\\n",
       "\t\\hline\n",
       "\t& Int64 & Int64\\\\\n",
       "\t\\hline\n",
       "\t1 & 2858 & 3428 \\\\\n",
       "\t2 & 260 & 2991 \\\\\n",
       "\t3 & 1196 & 2990 \\\\\n",
       "\t4 & 1210 & 2883 \\\\\n",
       "\t5 & 480 & 2672 \\\\\n",
       "\t6 & 2028 & 2653 \\\\\n",
       "\t7 & 589 & 2649 \\\\\n",
       "\t8 & 2571 & 2590 \\\\\n",
       "\t9 & 1270 & 2583 \\\\\n",
       "\t10 & 593 & 2578 \\\\\n",
       "\t11 & 1580 & 2538 \\\\\n",
       "\t12 & 1198 & 2514 \\\\\n",
       "\t13 & 608 & 2513 \\\\\n",
       "\t14 & 2762 & 2459 \\\\\n",
       "\t15 & 110 & 2443 \\\\\n",
       "\t16 & 2396 & 2369 \\\\\n",
       "\t17 & 1197 & 2318 \\\\\n",
       "\t18 & 527 & 2304 \\\\\n",
       "\t19 & 1617 & 2288 \\\\\n",
       "\t20 & 1265 & 2278 \\\\\n",
       "\t21 & 1097 & 2269 \\\\\n",
       "\t22 & 2628 & 2250 \\\\\n",
       "\t23 & 2997 & 2241 \\\\\n",
       "\t24 & 318 & 2227 \\\\\n",
       "\t$\\dots$ & $\\dots$ & $\\dots$ \\\\\n",
       "\\end{tabular}\n"
      ],
      "text/plain": [
       "\u001b[1m3706×2 DataFrame\u001b[0m\n",
       "\u001b[1m  Row \u001b[0m│\u001b[1m mid   \u001b[0m\u001b[1m count \u001b[0m\n",
       "\u001b[1m      \u001b[0m│\u001b[90m Int64 \u001b[0m\u001b[90m Int64 \u001b[0m\n",
       "──────┼──────────────\n",
       "    1 │  2858   3428\n",
       "    2 │   260   2991\n",
       "    3 │  1196   2990\n",
       "    4 │  1210   2883\n",
       "    5 │   480   2672\n",
       "    6 │  2028   2653\n",
       "    7 │   589   2649\n",
       "    8 │  2571   2590\n",
       "  ⋮   │   ⋮      ⋮\n",
       " 3700 │  3656      1\n",
       " 3701 │  3722      1\n",
       " 3702 │  3779      1\n",
       " 3703 │  3842      1\n",
       " 3704 │  3881      1\n",
       " 3705 │  3890      1\n",
       " 3706 │  3904      1\n",
       "\u001b[36m    3691 rows omitted\u001b[0m"
      ]
     },
     "metadata": {},
     "output_type": "display_data"
    }
   ],
   "source": [
    "count_movie = sort!(combine(groupby(ratings, :mid), nrow => :count), :count,rev=true)"
   ]
  },
  {
   "cell_type": "code",
   "execution_count": 74,
   "metadata": {},
   "outputs": [
    {
     "data": {
      "text/plain": [
       "3952"
      ]
     },
     "metadata": {},
     "output_type": "display_data"
    }
   ],
   "source": [
    "max(ratings.mid...)"
   ]
  },
  {
   "cell_type": "code",
   "execution_count": 75,
   "metadata": {},
   "outputs": [
    {
     "data": {
      "text/plain": [
       "6040"
      ]
     },
     "metadata": {},
     "output_type": "display_data"
    }
   ],
   "source": [
    "max(ratings.uid...)"
   ]
  },
  {
   "cell_type": "code",
   "execution_count": 76,
   "metadata": {},
   "outputs": [
    {
     "data": {
      "text/plain": [
       "(6040, 5)"
      ]
     },
     "metadata": {},
     "output_type": "display_data"
    }
   ],
   "source": [
    "size(users)"
   ]
  },
  {
   "cell_type": "code",
   "execution_count": 77,
   "metadata": {},
   "outputs": [
    {
     "data": {
      "text/plain": [
       "(3883, 3)"
      ]
     },
     "metadata": {},
     "output_type": "display_data"
    }
   ],
   "source": [
    "size(movies)"
   ]
  },
  {
   "cell_type": "code",
   "execution_count": null,
   "metadata": {},
   "outputs": [],
   "source": []
  }
 ],
 "metadata": {
  "kernelspec": {
   "display_name": "Julia 1.8.1",
   "language": "julia",
   "name": "julia-1.8"
  },
  "language_info": {
   "file_extension": ".jl",
   "mimetype": "application/julia",
   "name": "julia",
   "version": "1.8.1"
  },
  "orig_nbformat": 4,
  "vscode": {
   "interpreter": {
    "hash": "aee8b7b246df8f9039afb4144a1f6fd8d2ca17a180786b69acc140d282b71a49"
   }
  }
 },
 "nbformat": 4,
 "nbformat_minor": 2
}
